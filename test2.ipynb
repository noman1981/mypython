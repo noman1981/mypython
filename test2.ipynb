{
  "nbformat": 4,
  "nbformat_minor": 0,
  "metadata": {
    "colab": {
      "name": "test2.ipynb",
      "provenance": [],
      "collapsed_sections": [],
      "authorship_tag": "ABX9TyMRY8dD6HxwGU8y4tvndLv6",
      "include_colab_link": true
    },
    "kernelspec": {
      "name": "python3",
      "display_name": "Python 3"
    }
  },
  "cells": [
    {
      "cell_type": "markdown",
      "metadata": {
        "id": "view-in-github",
        "colab_type": "text"
      },
      "source": [
        "<a href=\"https://colab.research.google.com/github/noman1981/mypython/blob/master/test2.ipynb\" target=\"_parent\"><img src=\"https://colab.research.google.com/assets/colab-badge.svg\" alt=\"Open In Colab\"/></a>"
      ]
    },
    {
      "cell_type": "code",
      "metadata": {
        "id": "EfAE-HGON2qt",
        "colab_type": "code",
        "colab": {
          "base_uri": "https://localhost:8080/",
          "height": 306
        },
        "outputId": "65b0e925-8a9b-4b16-d747-1c4f49b885a3"
      },
      "source": [
        "for i in range(5):\n",
        "  print(i)\n",
        "print(\"Iterate over an actual list\")\n",
        "for i in range(0,5):\n",
        "  print(i)\n",
        "\n",
        "print(\"while loop\")\n",
        "\n",
        "i = 0\n",
        "while i<5:\n",
        "  print(i)\n",
        "  i +=1"
      ],
      "execution_count": 8,
      "outputs": [
        {
          "output_type": "stream",
          "text": [
            "0\n",
            "1\n",
            "2\n",
            "3\n",
            "4\n",
            "Iterate over an actual list\n",
            "0\n",
            "1\n",
            "2\n",
            "3\n",
            "4\n",
            "while loop\n",
            "0\n",
            "1\n",
            "2\n",
            "3\n",
            "4\n"
          ],
          "name": "stdout"
        }
      ]
    }
  ]
}