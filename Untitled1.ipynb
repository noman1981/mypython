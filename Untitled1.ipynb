{
  "nbformat": 4,
  "nbformat_minor": 0,
  "metadata": {
    "colab": {
      "name": "Untitled1.ipynb",
      "provenance": [],
      "authorship_tag": "ABX9TyMpk4FgXa8gJE3zUZQ0lVbE",
      "include_colab_link": true
    },
    "kernelspec": {
      "name": "python3",
      "display_name": "Python 3"
    }
  },
  "cells": [
    {
      "cell_type": "markdown",
      "metadata": {
        "id": "view-in-github",
        "colab_type": "text"
      },
      "source": [
        "<a href=\"https://colab.research.google.com/github/noman1981/mypython/blob/master/Untitled1.ipynb\" target=\"_parent\"><img src=\"https://colab.research.google.com/assets/colab-badge.svg\" alt=\"Open In Colab\"/></a>"
      ]
    },
    {
      "cell_type": "code",
      "metadata": {
        "id": "kkkdvU8CFmul",
        "colab_type": "code",
        "outputId": "f5511ded-6fa7-4e4c-e0ee-fd28ceffcc38",
        "colab": {
          "base_uri": "https://localhost:8080/",
          "height": 357
        }
      },
      "source": [
        "for i in range (5,25):\n",
        "  r = i * 2\n",
        "  print(i,\" * 2 = \",r)"
      ],
      "execution_count": 13,
      "outputs": [
        {
          "output_type": "stream",
          "text": [
            "5  * 2 =  10\n",
            "6  * 2 =  12\n",
            "7  * 2 =  14\n",
            "8  * 2 =  16\n",
            "9  * 2 =  18\n",
            "10  * 2 =  20\n",
            "11  * 2 =  22\n",
            "12  * 2 =  24\n",
            "13  * 2 =  26\n",
            "14  * 2 =  28\n",
            "15  * 2 =  30\n",
            "16  * 2 =  32\n",
            "17  * 2 =  34\n",
            "18  * 2 =  36\n",
            "19  * 2 =  38\n",
            "20  * 2 =  40\n",
            "21  * 2 =  42\n",
            "22  * 2 =  44\n",
            "23  * 2 =  46\n",
            "24  * 2 =  48\n"
          ],
          "name": "stdout"
        }
      ]
    }
  ]
}